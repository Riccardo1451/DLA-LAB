{
 "cells": [
  {
   "cell_type": "markdown",
   "id": "61be2fbf-e92b-4b7f-90e0-286492530f9c",
   "metadata": {},
   "source": [
    "In questo secondo notebook andremo a fare un finetuning su un dataset contenente degli sketch disegnati, per provare ad avere una differenza di accuracy più sostanziale. \\\n",
    "I seguenti passi, simili al precedente notebook, saranno valutare l'acuracy sul modello CLIP con zero shot, per poi utilizzare il metodo LoRA per il finetuning e verificare la accuracy finale."
   ]
  },
  {
   "cell_type": "code",
   "execution_count": 70,
   "id": "14975319-3b33-4aec-bfc9-4fb80e96d568",
   "metadata": {},
   "outputs": [],
   "source": [
    "from datasets import load_dataset\n",
    "from datasets import Dataset\n",
    "from transformers import CLIPProcessor, CLIPModel\n",
    "from transformers import CLIPForImageClassification, AutoImageProcessor, CLIPConfig\n",
    "from peft import get_peft_model, LoraConfig, TaskType\n",
    "from transformers import TrainingArguments, Trainer\n",
    "from transformers import DefaultDataCollator\n",
    "import numpy as np\n",
    "import evaluate\n",
    "import torch\n",
    "import torch.nn as nn\n",
    "from tqdm import tqdm\n",
    "import numpy as np\n",
    "import os\n",
    "from PIL import Image\n",
    "from torchvision import transforms\n",
    "from sklearn.model_selection import train_test_split\n",
    "from sklearn.metrics import accuracy_score, precision_recall_fscore_support\n"
   ]
  },
  {
   "cell_type": "code",
   "execution_count": 56,
   "id": "f7d135e9-be4a-4787-ac49-5fc33f4aba22",
   "metadata": {},
   "outputs": [],
   "source": [
    "selected_classes = [\n",
    "    \"cat\", \"dog\", \"airplane\", \"apple\", \"bicycle\",\n",
    "    \"tree\", \"house\", \"car\", \"clock\", \"umbrella\"\n",
    "]\n",
    "#Caricamento del dataset\n",
    "def load_quickdraw(class_name, path =\"./data/quickdraw_data\", n_samples = 500):\n",
    "    data = np.load(os.path.join(path, f\"{class_name}.npy\"))\n",
    "    data = data[:n_samples]\n",
    "    images = []\n",
    "    for img_arr in data:\n",
    "        img = Image.fromarray(img_arr.reshape(28, 28)).convert(\"RGB\")\n",
    "        img = img.resize((224, 224))\n",
    "        images.append({\"image\": img, \"text\": f\"a drawing of a {class_name}\", \"label\": class_name})\n",
    "    return images\n",
    "\n",
    "#Costruiamo il dataset con le 10 classi selezionate\n",
    "dataset = []\n",
    "for cls in selected_classes:\n",
    "    class_data = load_quickdraw(cls)\n",
    "    dataset.extend(class_data)\n",
    "\n",
    "#Impostiamo gli indici della classe\n",
    "label2id = {label: idx for idx, label in enumerate(selected_classes)}\n",
    "id2label = {i: label for i, label in enumerate(selected_classes)}\n",
    "for item in dataset:\n",
    "    item[\"label_id\"] = label2id[item[\"label\"]]"
   ]
  },
  {
   "cell_type": "code",
   "execution_count": 29,
   "id": "35472f47-5a3b-49c2-8d50-d0099fb63233",
   "metadata": {},
   "outputs": [
    {
     "data": {
      "image/jpeg": "[encoded data removed]",
      "image/png": "[encoded data removed]",
      "text/plain": [
       "<PIL.Image.Image image mode=RGB size=224x224>"
      ]
     },
     "metadata": {},
     "output_type": "display_data"
    },
    {
     "name": "stdout",
     "output_type": "stream",
     "text": [
      "Label: airplane\n"
     ]
    },
    {
     "data": {
      "text/plain": [
       "{'image': <PIL.Image.Image image mode=RGB size=224x224>,\n",
       " 'text': 'a drawing of a airplane',\n",
       " 'label': 'airplane',\n",
       " 'label_id': 2}"
      ]
     },
     "execution_count": 29,
     "metadata": {},
     "output_type": "execute_result"
    }
   ],
   "source": [
    "id = 1024\n",
    "display(dataset[id][\"image\"])\n",
    "print(f\"Label: {dataset[id][\"label\"]}\")\n",
    "\n",
    "dataset[id]"
   ]
  },
  {
   "cell_type": "code",
   "execution_count": 51,
   "id": "d18ce9e5-2838-440a-8e6c-9f3c73455131",
   "metadata": {},
   "outputs": [],
   "source": [
    "#Vediamo la zero shot \n",
    "model_id = \"openai/clip-vit-base-patch16\"\n",
    "modelbase = CLIPModel.from_pretrained(model_id)\n",
    "processorbase = CLIPProcessor.from_pretrained(model_id)"
   ]
  },
  {
   "cell_type": "code",
   "execution_count": 35,
   "id": "dca0c225-2e22-40ea-ab35-14df52647914",
   "metadata": {},
   "outputs": [],
   "source": [
    "#Creiamo due split uno per il training nel finetuning e uno per il validation\n",
    "ds_train , ds_val = train_test_split(dataset, test_size = 0.1, stratify=[d[\"label_id\"]for d in dataset])\n",
    "\n",
    "#Convertiamo per compatibilità con HF\n",
    "train_dataset = Dataset.from_list(ds_train)\n",
    "eval_dataset = Dataset.from_list(ds_val)"
   ]
  },
  {
   "cell_type": "code",
   "execution_count": 36,
   "id": "761a6217-1288-4c9a-9939-e43bc89a907f",
   "metadata": {},
   "outputs": [
    {
     "data": {
      "application/vnd.jupyter.widget-view+json": {
       "model_id": "ac1fb840085a451382de83a4d40bb84b",
       "version_major": 2,
       "version_minor": 0
      },
      "text/plain": [
       "Map:   0%|          | 0/4500 [00:00<?, ? examples/s]"
      ]
     },
     "metadata": {},
     "output_type": "display_data"
    },
    {
     "data": {
      "application/vnd.jupyter.widget-view+json": {
       "model_id": "c023981e77454c8b9dd3e6e33dba8a42",
       "version_major": 2,
       "version_minor": 0
      },
      "text/plain": [
       "Map:   0%|          | 0/500 [00:00<?, ? examples/s]"
      ]
     },
     "metadata": {},
     "output_type": "display_data"
    }
   ],
   "source": [
    "#Funzione di preprocess e mapping \n",
    "def preprocess(examples):\n",
    "    encoding = processor(\n",
    "        text=examples[\"text\"],\n",
    "        images=examples[\"image\"],\n",
    "        return_tensors=\"pt\",\n",
    "        padding=True\n",
    "    )\n",
    "    return {\n",
    "        \"pixel_values\": encoding[\"pixel_values\"][0],  # 3 224 224\n",
    "        \"input_ids\": encoding[\"input_ids\"][0],\n",
    "        \"attention_mask\": encoding[\"attention_mask\"][0],\n",
    "        \"labels\": examples[\"label_id\"]\n",
    "    }\n",
    "\n",
    "train_dataset = train_dataset.map(preprocess)\n",
    "eval_dataset = eval_dataset.map(preprocess)"
   ]
  },
  {
   "cell_type": "code",
   "execution_count": 47,
   "id": "3221f3a5-302e-4652-ac0b-6b0f169096c1",
   "metadata": {},
   "outputs": [],
   "source": [
    "train_dataset2 = train_dataset.remove_columns([col for col in train_dataset.column_names if col not in ['pixel_values', 'input_ids', 'attention_mask', 'labels']])\n",
    "eval_dataset2 = eval_dataset.remove_columns([col for col in eval_dataset.column_names if col not in ['pixel_values', 'input_ids', 'attention_mask', 'labels']])\n"
   ]
  },
  {
   "cell_type": "code",
   "execution_count": 52,
   "id": "4d4ccefb-a1d5-4193-bf61-ebfa31e2b38b",
   "metadata": {},
   "outputs": [
    {
     "name": "stderr",
     "output_type": "stream",
     "text": [
      "100%|█████████████████████████████████████████| 500/500 [00:25<00:00, 19.38it/s]"
     ]
    },
    {
     "name": "stdout",
     "output_type": "stream",
     "text": [
      "Zero-shot accuracy on QuickDraw test set (10 classes): 0.7500\n"
     ]
    },
    {
     "name": "stderr",
     "output_type": "stream",
     "text": [
      "\n"
     ]
    }
   ],
   "source": [
    "#Facciamo zero shot su CLIP\n",
    "text = [f\"a drawing of a {label}\" for label in selected_classes]\n",
    "device = \"cuda\" if torch.cuda.is_available else \"cpu\"\n",
    "modelbase.eval()\n",
    "modelbase.to(device)\n",
    "\n",
    "with torch.no_grad():\n",
    "    text_inputs = processorbase(text=text, return_tensors=\"pt\", padding=True).to(device)\n",
    "    text_embeddings = modelbase.get_text_features(**text_inputs)\n",
    "    text_embeddings = text_embeddings / text_embeddings.norm(p=2, dim=-1, keepdim=True)\n",
    "\n",
    "correct = 0\n",
    "total = 0\n",
    "\n",
    "for sample in tqdm(eval_dataset):\n",
    "    image = sample[\"image\"]\n",
    "    true_label_id = sample[\"label_id\"]\n",
    "\n",
    "    \n",
    "    image_input = processorbase(images=image, return_tensors=\"pt\").to(device)\n",
    "    \n",
    "    with torch.no_grad():\n",
    "        image_features = modelbase.get_image_features(**image_input)\n",
    "        image_features = image_features / image_features.norm(p=2, dim=-1, keepdim=True)\n",
    "\n",
    "        # Similarità con ogni testo\n",
    "        logits = image_features @ text_embeddings.T  # (1, 10)\n",
    "        pred_class = logits.argmax(dim=-1).item()\n",
    "        \n",
    "        if pred_class == true_label_id:\n",
    "            correct += 1\n",
    "        total += 1\n",
    "\n",
    "accuracy = correct / total\n",
    "print(f\"Zero-shot accuracy on QuickDraw test set (10 classes): {accuracy:.4f}\")"
   ]
  },
  {
   "cell_type": "code",
   "execution_count": 57,
   "id": "bed19d15-078e-44c6-acee-6bd3f3f557fc",
   "metadata": {},
   "outputs": [
    {
     "name": "stderr",
     "output_type": "stream",
     "text": [
      "Some weights of CLIPForImageClassification were not initialized from the model checkpoint at openai/clip-vit-base-patch16 and are newly initialized: ['classifier.bias', 'classifier.weight']\n",
      "You should probably TRAIN this model on a down-stream task to be able to use it for predictions and inference.\n",
      "Using a slow image processor as `use_fast` is unset and a slow processor was saved with this model. `use_fast=True` will be the default behavior in v4.52, even if the model was saved with a slow processor. This will result in minor differences in outputs. You'll still be able to use a slow processor with `use_fast=False`.\n"
     ]
    }
   ],
   "source": [
    "#Carichiamo il modello CLIP per applicarci LoRA\n",
    "model_id = \"openai/clip-vit-base-patch16\"\n",
    "\n",
    "config = CLIPConfig.from_pretrained(model_id,\n",
    "                                    num_labels=len(label2id),\n",
    "                                    label2id=label2id, id2label=id2label)\n",
    "model = CLIPForImageClassification.from_pretrained(\n",
    "    model_id,\n",
    "    config=config,\n",
    "    ignore_mismatched_sizes=True  # adattare la testa di classificazione a 10 classi\n",
    ")\n",
    "\n",
    "processor = AutoImageProcessor.from_pretrained(model_id)"
   ]
  },
  {
   "cell_type": "code",
   "execution_count": 58,
   "id": "f43a3ad8-5aca-4c01-9b71-4230bb4171c2",
   "metadata": {},
   "outputs": [
    {
     "name": "stdout",
     "output_type": "stream",
     "text": [
      "trainable params: 302,602 || all params: 86,109,716 || trainable%: 0.3514\n"
     ]
    }
   ],
   "source": [
    "#Applichiamo LoRA al modello e faccio il finetuning\n",
    "peft_config = LoraConfig(\n",
    "    task_type = None,\n",
    "    target_modules=[\"q_proj\", \"v_proj\"], #Matrici della self attention\n",
    "    inference_mode = False,\n",
    "    r = 8, #Rango delle matrici\n",
    "    lora_alpha = 16, #Scaling per stabilizzare la train loss\n",
    "    lora_dropout = 0.01,\n",
    "    bias = 'none',\n",
    "    modules_to_save = [\"classifier\"]\n",
    ")\n",
    "\n",
    "#Apllichiamo LoRA al modello CLIP\n",
    "lora_model = get_peft_model(model, peft_config)\n",
    "\n",
    "\n",
    "#Verifichiamo i parametri addestrabili del nuovo modello e notiamo che sono nettamente meno\n",
    "lora_model.print_trainable_parameters()"
   ]
  },
  {
   "cell_type": "code",
   "execution_count": 66,
   "id": "4c40d513-9d40-40fb-9da2-555d35954729",
   "metadata": {},
   "outputs": [],
   "source": [
    "#Configurazione dell'addestramento\n",
    "\n",
    "training_args = TrainingArguments(\n",
    "    output_dir='./results',\n",
    "    learning_rate=2e-5,\n",
    "    per_device_train_batch_size=64,\n",
    "    per_device_eval_batch_size=64,\n",
    "    num_train_epochs=3,\n",
    "    use_cpu = False,\n",
    "    eval_strategy='epoch',\n",
    "    do_eval = True,\n",
    "    save_strategy='epoch',\n",
    "    logging_strategy=\"epoch\",\n",
    "    report_to = \"wandb\",\n",
    "    run_name=\"clip-lora-quicksketch\",\n",
    "    remove_unused_columns=False,\n",
    "    label_names=[\"labels\"],\n",
    "    logging_steps=10,\n",
    "    metric_for_best_model=\"accuracy\",\n",
    "    fp16=True, #per GPU\n",
    ")\n",
    "\n",
    "def compute_metrics(eval_pred):\n",
    "    logits, labels = eval_pred\n",
    "    predictions = logits.argmax(axis=-1)\n",
    "\n",
    "    acc = accuracy_score(labels, predictions)\n",
    "    precision, recall, f1, _ = precision_recall_fscore_support(labels, predictions, average=\"weighted\")\n",
    "\n",
    "    return {\n",
    "        \"accuracy\": acc,\n",
    "        \"precision\": precision,\n",
    "        \"recall\": recall,\n",
    "        \"f1\": f1\n",
    "    }"
   ]
  },
  {
   "cell_type": "code",
   "execution_count": 71,
   "id": "b3bf3bdc-b10a-4a54-ab7b-0a454854814c",
   "metadata": {},
   "outputs": [
    {
     "name": "stderr",
     "output_type": "stream",
     "text": [
      "/tmp/ipykernel_6037/2372148870.py:11: FutureWarning: `tokenizer` is deprecated and will be removed in version 5.0.0 for `Trainer.__init__`. Use `processing_class` instead.\n",
      "  trainer = Trainer(\n"
     ]
    },
    {
     "data": {
      "text/html": [
       "\n",
       "    <div>\n",
       "      \n",
       "      <progress value='213' max='213' style='width:300px; height:20px; vertical-align: middle;'></progress>\n",
       "      [213/213 16:13, Epoch 3/3]\n",
       "    </div>\n",
       "    <table border=\"1\" class=\"dataframe\">\n",
       "  <thead>\n",
       " <tr style=\"text-align: left;\">\n",
       "      <th>Epoch</th>\n",
       "      <th>Training Loss</th>\n",
       "      <th>Validation Loss</th>\n",
       "      <th>Accuracy</th>\n",
       "      <th>Precision</th>\n",
       "      <th>Recall</th>\n",
       "      <th>F1</th>\n",
       "    </tr>\n",
       "  </thead>\n",
       "  <tbody>\n",
       "    <tr>\n",
       "      <td>1</td>\n",
       "      <td>1.982400</td>\n",
       "      <td>1.826500</td>\n",
       "      <td>0.726000</td>\n",
       "      <td>0.727075</td>\n",
       "      <td>0.726000</td>\n",
       "      <td>0.701520</td>\n",
       "    </tr>\n",
       "    <tr>\n",
       "      <td>2</td>\n",
       "      <td>1.710000</td>\n",
       "      <td>1.590500</td>\n",
       "      <td>0.732000</td>\n",
       "      <td>0.758643</td>\n",
       "      <td>0.732000</td>\n",
       "      <td>0.695043</td>\n",
       "    </tr>\n",
       "    <tr>\n",
       "      <td>3</td>\n",
       "      <td>1.530000</td>\n",
       "      <td>1.497000</td>\n",
       "      <td>0.734000</td>\n",
       "      <td>0.771554</td>\n",
       "      <td>0.734000</td>\n",
       "      <td>0.698580</td>\n",
       "    </tr>\n",
       "  </tbody>\n",
       "</table><p>"
      ],
      "text/plain": [
       "<IPython.core.display.HTML object>"
      ]
     },
     "metadata": {},
     "output_type": "display_data"
    },
    {
     "data": {
      "text/plain": [
       "TrainOutput(global_step=213, training_loss=1.7408218383789062, metrics={'train_runtime': 981.991, 'train_samples_per_second': 13.748, 'train_steps_per_second': 0.217, 'total_flos': 1.04807107270656e+18, 'train_loss': 1.7408218383789062, 'epoch': 3.0})"
      ]
     },
     "execution_count": 71,
     "metadata": {},
     "output_type": "execute_result"
    }
   ],
   "source": [
    "\n",
    "\n",
    "class ImageClassificationDataCollator(DefaultDataCollator):\n",
    "    def __call__(self, features):\n",
    "        # Rimuovi 'input_ids' e non necessari\n",
    "        for f in features:\n",
    "            f.pop(\"input_ids\", None)\n",
    "            f.pop(\"attention_mask\", None)\n",
    "        return super().__call__(features)\n",
    "\n",
    "data_collator = ImageClassificationDataCollator()\n",
    "\n",
    "trainer = Trainer(\n",
    "    model=model.to(device),\n",
    "    args=training_args,\n",
    "    train_dataset=train_dataset2,\n",
    "    eval_dataset=eval_dataset2,\n",
    "    tokenizer=processor,\n",
    "    data_collator = data_collator,\n",
    "    compute_metrics=compute_metrics\n",
    ")\n",
    "trainer.train()"
   ]
  }
 ],
 "metadata": {
  "kernelspec": {
   "display_name": "Python 3 (ipykernel)",
   "language": "python",
   "name": "python3"
  },
  "language_info": {
   "codemirror_mode": {
    "name": "ipython",
    "version": 3
   },
   "file_extension": ".py",
   "mimetype": "text/x-python",
   "name": "python",
   "nbconvert_exporter": "python",
   "pygments_lexer": "ipython3",
   "version": "3.12.7"
  }
 },
 "nbformat": 4,
 "nbformat_minor": 5
}
